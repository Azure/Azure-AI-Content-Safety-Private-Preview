{
 "cells": [
  {
   "cell_type": "markdown",
   "id": "cccb5f49",
   "metadata": {},
   "source": [
    "#  Content Moderator v2 Private Preview Sample Code\n",
    "\n",
    "Welcome to Azure Content Moderator service v2 Private Preview! \n",
    "\n",
    "The Azure Content Moderator API is a cognitive service that checks text, image and video content for material that is potentially offensive, risky, or otherwise undesirable. In the upcoming v2 private preview, we are going to introduce a reboot of Azure Content Moderator, which lets developers and data scientists use new state of the art text, image, audio video and multi-modal models to make the applications using the new AI generative models by OpenAI (like GPT-X, Dall-E 2 and Codex, which powers GitHub Copilot) and Microsoft products safe to use. The new models are not only good at making AIs safe, but they are also targeted at user generated content on social media, game chat rooms, forums, etc."
   ]
  },
  {
   "cell_type": "markdown",
   "id": "651e20d5",
   "metadata": {},
   "source": [
    "##  📒 Overview \n",
    "\n",
    "This site is structured into following sections\n",
    "\n",
    "- **Introdution** This notebook shows how to use Content Moderator service. Please follow the steps to try it out.\n",
    "\n",
    "- **Prerequisites** You need to create an Azure subscription, after whitelising, create a Content Moderator resource and get your endpoint and key.\n",
    "\n",
    "- **Sample Code** Try the below⬇️sample Python code."
   ]
  },
  {
   "cell_type": "markdown",
   "id": "d5dadd0f",
   "metadata": {},
   "source": [
    "##  📒 Sample Code: Offensive words"
   ]
  },
  {
   "cell_type": "code",
   "execution_count": 14,
   "id": "8410c01f",
   "metadata": {
    "scrolled": true
   },
   "outputs": [
    {
     "name": "stdout",
     "output_type": "stream",
     "text": [
      "{\"value\":[{\"category\":\"Profanity\",\"detected\":false,\"score\":0.0,\"modelOutputDetail\":null,\"diagnoses\":null},{\"category\":\"Sexual\",\"detected\":false,\"score\":1.1471309E-4,\"modelOutputDetail\":null,\"diagnoses\":null},{\"category\":\"SelfHarm\",\"detected\":true,\"score\":0.9901419,\"modelOutputDetail\":null,\"diagnoses\":null},{\"category\":\"PII\",\"detected\":false,\"score\":0.0,\"modelOutputDetail\":null,\"diagnoses\":[]},{\"category\":\"Violence\",\"detected\":true,\"score\":0.9925808,\"modelOutputDetail\":null,\"diagnoses\":null},{\"category\":\"HateSpeech\",\"detected\":true,\"score\":0.99658126,\"modelOutputDetail\":null,\"diagnoses\":null}]}\n"
     ]
    }
   ],
   "source": [
    "import requests\n",
    "\n",
    "url = \"https://cm-vnext-ppe-lixiang.ppe.cognitiveservices.azure.com/contentmoderator/moderate/text/detect?api-version=2022-09-30-preview\"\n",
    "\n",
    "payload = {\"text\": \"You are an idiot.\"}\n",
    "headers = {\n",
    "    \"accept\": \"application/json\",\n",
    "    \"content-type\": \"application/json\",\n",
    "    \"Ocp-Apim-Subscription-Key\": \"Please type you API key here\"}\n",
    "\n",
    "response = requests.post(url, json=payload, headers=headers)\n",
    "\n",
    "print(response.text)"
   ]
  },
  {
   "cell_type": "markdown",
   "id": "579d7a8d",
   "metadata": {},
   "source": [
    "##  📒 Sample Code: Personal Information"
   ]
  },
  {
   "cell_type": "code",
   "execution_count": 15,
   "id": "4dad82e6",
   "metadata": {},
   "outputs": [
    {
     "name": "stdout",
     "output_type": "stream",
     "text": [
      "{\"value\":[{\"category\":\"Profanity\",\"detected\":false,\"score\":0.0,\"modelOutputDetail\":null,\"diagnoses\":null},{\"category\":\"Sexual\",\"detected\":false,\"score\":9.840296E-5,\"modelOutputDetail\":null,\"diagnoses\":null},{\"category\":\"SelfHarm\",\"detected\":false,\"score\":8.270921E-5,\"modelOutputDetail\":null,\"diagnoses\":null},{\"category\":\"PII\",\"detected\":true,\"score\":1.0,\"modelOutputDetail\":null,\"diagnoses\":[{\"start\":21,\"end\":36,\"detected\":true,\"score\":1.0,\"diagnosisDetail\":{\"entity_type\":\"EMAIL_ADDRESS\"}},{\"start\":61,\"end\":76,\"detected\":true,\"score\":0.95,\"diagnosisDetail\":{\"entity_type\":\"IP_ADDRESS\"}},{\"start\":45,\"end\":55,\"detected\":true,\"score\":1.0,\"diagnosisDetail\":{\"entity_type\":\"AU_MEDICARE\"}},{\"start\":95,\"end\":102,\"detected\":true,\"score\":0.85,\"diagnosisDetail\":{\"entity_type\":\"LOCATION\"}},{\"start\":45,\"end\":55,\"detected\":false,\"score\":0.05,\"diagnosisDetail\":{\"entity_type\":\"US_BANK_NUMBER\"}},{\"start\":45,\"end\":55,\"detected\":false,\"score\":0.01,\"diagnosisDetail\":{\"entity_type\":\"US_DRIVER_LICENSE\"}},{\"start\":45,\"end\":55,\"detected\":true,\"score\":0.75,\"diagnosisDetail\":{\"entity_type\":\"PHONE_NUMBER\"}},{\"start\":107,\"end\":112,\"detected\":true,\"score\":0.85,\"diagnosisDetail\":{\"entity_type\":\"DATE_TIME\"}},{\"start\":28,\"end\":36,\"detected\":true,\"score\":0.5,\"diagnosisDetail\":{\"entity_type\":\"URL\"}}]},{\"category\":\"Violence\",\"detected\":false,\"score\":4.9262313E-4,\"modelOutputDetail\":null,\"diagnoses\":null},{\"category\":\"HateSpeech\",\"detected\":false,\"score\":0.29539058,\"modelOutputDetail\":null,\"diagnoses\":null}]}\n"
     ]
    }
   ],
   "source": [
    "import requests\n",
    "\n",
    "url = \"https://cm-vnext-ppe-lixiang.ppe.cognitiveservices.azure.com/contentmoderator/moderate/text/detect?api-version=2022-09-30-preview\"\n",
    "\n",
    "payload = {\"text\": \"Is this a crap email abcdef@abcd.com, phone: 6657789887, IP: 255.255.255.255, 1 Microsoft Way, Redmond, WA 98052\"}\n",
    "headers = {\n",
    "    \"accept\": \"application/json\",\n",
    "    \"content-type\": \"application/json\",\n",
    "    \"Ocp-Apim-Subscription-Key\": \"Please type you API key here\"}\n",
    "\n",
    "response = requests.post(url, json=payload, headers=headers)\n",
    "\n",
    "print(response.text)"
   ]
  }
 ],
 "metadata": {
  "kernelspec": {
   "display_name": "Python 3 (ipykernel)",
   "language": "python",
   "name": "python3"
  },
  "language_info": {
   "codemirror_mode": {
    "name": "ipython",
    "version": 3
   },
   "file_extension": ".py",
   "mimetype": "text/x-python",
   "name": "python",
   "nbconvert_exporter": "python",
   "pygments_lexer": "ipython3",
   "version": "3.9.7"
  }
 },
 "nbformat": 4,
 "nbformat_minor": 5
}
