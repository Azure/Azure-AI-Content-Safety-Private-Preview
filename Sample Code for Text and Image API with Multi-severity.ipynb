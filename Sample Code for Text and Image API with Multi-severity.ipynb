{
 "cells": [
  {
   "cell_type": "markdown",
   "id": "231b279f",
   "metadata": {},
   "source": [
    "#  Content Moderator v2 Private Preview Sample Code\n",
    "\n",
    "Welcome to Azure Content Moderator service v2 Private Preview! \n",
    "\n",
    "The Azure Content Moderator API is a cognitive service that checks text, image and video content for material that is potentially offensive, risky, or otherwise undesirable. In the upcoming v2 private preview, we are going to introduce a reboot of Azure Content Moderator, which lets developers and data scientists use new state of the art text, image, audio video and multi-modal models to make the applications using the new AI generative models by OpenAI (like GPT-X, Dall-E 2 and Codex, which powers GitHub Copilot) and Microsoft products safe to use. The new models are not only good at making AIs safe, but they are also targeted at user generated content on social media, game chat rooms, forums, etc."
   ]
  },
  {
   "cell_type": "markdown",
   "id": "29eb7d8e",
   "metadata": {},
   "source": [
    "##  📒 Overview \n",
    "\n",
    "This documentation site is structured into following sections\n",
    "\n",
    "- **Introdution** This notebook shows how to use Content Moderator service. Please follow the steps to try it out.\n",
    "\n",
    "- **Prerequisites** You need to create an Azure subscription, after whitelising, create a Content Moderator resource and get your endpoint and key.\n",
    "\n",
    "- **Sample Code** Try the below⬇️sample python code."
   ]
  },
  {
   "cell_type": "markdown",
   "id": "2dfbab88",
   "metadata": {},
   "source": [
    "##  📒 Sample Code: Text API with multi-severity risk levels"
   ]
  },
  {
   "cell_type": "code",
   "execution_count": 3,
   "id": "6224f05b",
   "metadata": {},
   "outputs": [
    {
     "name": "stdout",
     "output_type": "stream",
     "text": [
      "{\"blocklistMatchResults\":[],\"hateResult\":{\"category\":\"Hate\",\"riskLevel\":2},\"selfHarmResult\":{\"category\":\"SelfHarm\",\"riskLevel\":0},\"sexualResult\":{\"category\":\"Sexual\",\"riskLevel\":0},\"violenceResult\":{\"category\":\"Violence\",\"riskLevel\":0}}\n"
     ]
    }
   ],
   "source": [
    "import requests\n",
    "import json\n",
    "\n",
    "url = \"https://cm-carnegie-ppe-use.ppe.cognitiveservices.azure.com/contentmoderator/text:analyze?api-version=2022-12-30-preview&language=en\"\n",
    "\n",
    "payload = json.dumps({\n",
    "  \"text\": \"you are an idiot\",\n",
    "  \"categories\": [\n",
    "    \"Hate\",\n",
    "    \"Sexual\",\n",
    "    \"SelfHarm\",\n",
    "    \"Violence\"\n",
    "  ]\n",
    "})\n",
    "headers = {\n",
    "  'Ocp-Apim-Subscription-Key': '19b54286b8ac49fc8d064eded98dd48e',\n",
    "  'Content-Type': 'application/json'\n",
    "}\n",
    "\n",
    "response = requests.request(\"POST\", url, headers=headers, data=payload)\n",
    "\n",
    "print(response.text)\n"
   ]
  },
  {
   "cell_type": "markdown",
   "id": "66aa8b40",
   "metadata": {},
   "source": [
    "##  📒 Sample Code: Image API with multi-severity risk levels"
   ]
  },
  {
   "cell_type": "code",
   "execution_count": 6,
   "id": "3b3498c4",
   "metadata": {},
   "outputs": [
    {
     "name": "stdout",
     "output_type": "stream",
     "text": [
      "{\"hateResult\":{\"category\":\"Hate\",\"riskLevel\":0},\"selfHarmResult\":{\"category\":\"SelfHarm\",\"riskLevel\":0},\"sexualResult\":{\"category\":\"Sexual\",\"riskLevel\":6},\"violenceResult\":{\"category\":\"Violence\",\"riskLevel\":6}}\n"
     ]
    }
   ],
   "source": [
    "import requests\n",
    "import json\n",
    "\n",
    "url = \"https://cm-carnegie-ppe-use.ppe.cognitiveservices.azure.com/contentmoderator/image:analyze?api-version=2022-12-30-preview\"\n",
    "\n",
    "payload = json.dumps({\n",
    "  \"image\": {\n",
    "    \"url\": \"https://cmsatest2023.blob.core.windows.net/images/adult.jpeg\"\n",
    "  },\n",
    "  \"categories\": [\n",
    "    \"Hate\",\n",
    "    \"Sexual\",\n",
    "    \"SelfHarm\",\n",
    "    \"Violence\"\n",
    "  ]\n",
    "})\n",
    "headers = {\n",
    "  'Ocp-Apim-Subscription-Key': '19b54286b8ac49fc8d064eded98dd48e',\n",
    "  'Content-Type': 'application/json'\n",
    "}\n",
    "\n",
    "response = requests.request(\"POST\", url, headers=headers, data=payload)\n",
    "\n",
    "print(response.text)\n"
   ]
  }
 ],
 "metadata": {
  "kernelspec": {
   "display_name": "Python 3 (ipykernel)",
   "language": "python",
   "name": "python3"
  },
  "language_info": {
   "codemirror_mode": {
    "name": "ipython",
    "version": 3
   },
   "file_extension": ".py",
   "mimetype": "text/x-python",
   "name": "python",
   "nbconvert_exporter": "python",
   "pygments_lexer": "ipython3",
   "version": "3.9.7"
  }
 },
 "nbformat": 4,
 "nbformat_minor": 5
}
