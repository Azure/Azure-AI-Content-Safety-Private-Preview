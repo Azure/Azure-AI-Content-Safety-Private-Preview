{
 "cells": [
  {
   "cell_type": "markdown",
   "id": "cccb5f49",
   "metadata": {},
   "source": [
    "#  Azure Content Moderator v2 Sample Code\n",
    "\n",
    "Welcome to Azure Content Moderator v2! \n",
    "\n",
    "Azure Content Moderator V2 is a Private Preview of Azure Cognitive Service that checks text, image and video content that is potentially offensive, risky, or otherwise undesirable. In the upcoming private preview, we are going to introduce a reboot of Azure Content Moderator, which lets developers and data scientists use new state-of-the-art text, image, audio video and multi-modal models to make the applications using the new AI generative models by OpenAI (like GPT-X, Dall-E 2 and Codex, which powers GitHub Copilot) and Microsoft products safe to use. The new models are not only good at making AIs safe, but they are also targeted at user-generated content on social media, game chat rooms, forums, etc."
   ]
  },
  {
   "cell_type": "markdown",
   "id": "ea19e767",
   "metadata": {},
   "source": [
    "##  ⚠️ Disclaimer \n",
    "\n",
    "The sample code could have offensive content, user discretion is advised."
   ]
  },
  {
   "cell_type": "markdown",
   "id": "651e20d5",
   "metadata": {},
   "source": [
    "##  🔖  Overview \n",
    "\n",
    "- **Introdution** This notebook shows how to use the service. Please follow below steps to try it out.\n",
    "\n",
    "- **Prerequisites** You need to create an Azure subscription, after whitelising, create a Content Moderator resource and get your endpoint and API key.\n",
    "\n",
    "- **Sample Code** Try the below⬇️sample python code."
   ]
  },
  {
   "cell_type": "markdown",
   "id": "d5dadd0f",
   "metadata": {},
   "source": [
    "##  📒 Sample Code: Hate Speech"
   ]
  },
  {
   "cell_type": "code",
   "execution_count": 14,
   "id": "8410c01f",
   "metadata": {
    "scrolled": true
   },
   "outputs": [
    {
     "name": "stdout",
     "output_type": "stream",
     "text": [
      "{\"value\":[{\"category\":\"SelfHarm\",\"detected\":true,\"score\":0.9973284,\"modelOutputDetail\":null,\"diagnoses\":null},{\"category\":\"Sexual\",\"detected\":false,\"score\":8.1217186E-5,\"modelOutputDetail\":null,\"diagnoses\":null},{\"category\":\"Violence\",\"detected\":false,\"score\":0.25505036,\"modelOutputDetail\":null,\"diagnoses\":null},{\"category\":\"HateSpeech\",\"detected\":true,\"score\":0.99874383,\"modelOutputDetail\":null,\"diagnoses\":null}]}\n"
     ]
    }
   ],
   "source": [
    "import requests\n",
    "\n",
    "url = \"https://[endpoint]contentmoderator/moderate/text/detect?api-version=2022-09-30-preview\"\n",
    "\n",
    "payload = {\"text\": \"You are so stupid.\"}\n",
    "headers = {\n",
    "    \"accept\": \"application/json\",\n",
    "    \"content-type\": \"application/json\",\n",
    "    \"Ocp-Apim-Subscription-Key\": \"Please type your API key here\"}\n",
    "\n",
    "response = requests.post(url, json=payload, headers=headers)\n",
    "\n",
    "print(response.text)"
   ]
  },
  {
   "cell_type": "markdown",
   "id": "579d7a8d",
   "metadata": {},
   "source": [
    "##  📒 Sample Code: Sexual"
   ]
  },
  {
   "cell_type": "code",
   "execution_count": 11,
   "id": "4dad82e6",
   "metadata": {},
   "outputs": [
    {
     "name": "stdout",
     "output_type": "stream",
     "text": [
      "{\"value\":[{\"category\":\"SelfHarm\",\"detected\":false,\"score\":0.0015840833,\"modelOutputDetail\":null,\"diagnoses\":null},{\"category\":\"Violence\",\"detected\":false,\"score\":0.0067487736,\"modelOutputDetail\":null,\"diagnoses\":null},{\"category\":\"Sexual\",\"detected\":true,\"score\":0.99951804,\"modelOutputDetail\":null,\"diagnoses\":null},{\"category\":\"HateSpeech\",\"detected\":false,\"score\":6.7039457E-4,\"modelOutputDetail\":null,\"diagnoses\":null}]}\n"
     ]
    }
   ],
   "source": [
    "import requests\n",
    "\n",
    "url = \"https://[endpoint]contentmoderator/moderate/text/detect?api-version=2022-09-30-preview\"\n",
    "\n",
    "payload = {\"text\": \"I met that pussy on Ocean\"}\n",
    "headers = {\n",
    "    \"accept\": \"application/json\",\n",
    "    \"content-type\": \"application/json\",\n",
    "    \"Ocp-Apim-Subscription-Key\": \"Please type your API key here\"}\n",
    "\n",
    "response = requests.post(url, json=payload, headers=headers)\n",
    "\n",
    "print(response.text)"
   ]
  },
  {
   "cell_type": "markdown",
   "id": "edcddb31",
   "metadata": {},
   "source": [
    "##  📒 Sample Code: Violence"
   ]
  },
  {
   "cell_type": "code",
   "execution_count": 12,
   "id": "e209dc00",
   "metadata": {},
   "outputs": [
    {
     "name": "stdout",
     "output_type": "stream",
     "text": [
      "{\"value\":[{\"category\":\"SelfHarm\",\"detected\":false,\"score\":0.018460177,\"modelOutputDetail\":null,\"diagnoses\":null},{\"category\":\"Sexual\",\"detected\":false,\"score\":7.484918E-4,\"modelOutputDetail\":null,\"diagnoses\":null},{\"category\":\"Violence\",\"detected\":true,\"score\":0.99859494,\"modelOutputDetail\":null,\"diagnoses\":null},{\"category\":\"HateSpeech\",\"detected\":true,\"score\":0.9624728,\"modelOutputDetail\":null,\"diagnoses\":null}]}\n"
     ]
    }
   ],
   "source": [
    "import requests\n",
    "\n",
    "url = \"https://[endpoint]contentmoderator/moderate/text/detect?api-version=2022-09-30-preview\"\n",
    "\n",
    "payload = {\"text\": \"I will kill you\"}\n",
    "headers = {\n",
    "    \"accept\": \"application/json\",\n",
    "    \"content-type\": \"application/json\",\n",
    "    \"Ocp-Apim-Subscription-Key\": \"Please type your API key here\"}\n",
    "\n",
    "response = requests.post(url, json=payload, headers=headers)\n",
    "\n",
    "print(response.text)"
   ]
  },
  {
   "cell_type": "markdown",
   "id": "198276b4",
   "metadata": {},
   "source": [
    "##  📒 Sample Code: Self Harm"
   ]
  },
  {
   "cell_type": "code",
   "execution_count": 6,
   "id": "3fba6e25",
   "metadata": {},
   "outputs": [
    {
     "name": "stdout",
     "output_type": "stream",
     "text": [
      "{\"value\":[{\"category\":\"SelfHarm\",\"detected\":true,\"score\":0.999582,\"modelOutputDetail\":null,\"diagnoses\":null},{\"category\":\"Sexual\",\"detected\":false,\"score\":0.021036975,\"modelOutputDetail\":null,\"diagnoses\":null},{\"category\":\"Violence\",\"detected\":false,\"score\":5.4004864E-4,\"modelOutputDetail\":null,\"diagnoses\":null},{\"category\":\"HateSpeech\",\"detected\":false,\"score\":0.10896527,\"modelOutputDetail\":null,\"diagnoses\":null}]}\n"
     ]
    }
   ],
   "source": [
    "import requests\n",
    "\n",
    "url = \"https://[endpoint]contentmoderator/moderate/text/detect?api-version=2022-09-30-preview\"\n",
    "\n",
    "payload = {\"text\": \"I'm going to cut my finger\"}\n",
    "headers = {\n",
    "    \"accept\": \"application/json\",\n",
    "    \"content-type\": \"application/json\",\n",
    "    \"Ocp-Apim-Subscription-Key\": \"Please type your API key here\"}\n",
    "\n",
    "response = requests.post(url, json=payload, headers=headers)\n",
    "\n",
    "print(response.text)"
   ]
  }
 ],
 "metadata": {
  "kernelspec": {
   "display_name": "Python 3 (ipykernel)",
   "language": "python",
   "name": "python3"
  },
  "language_info": {
   "codemirror_mode": {
    "name": "ipython",
    "version": 3
   },
   "file_extension": ".py",
   "mimetype": "text/x-python",
   "name": "python",
   "nbconvert_exporter": "python",
   "pygments_lexer": "ipython3",
   "version": "3.9.7"
  }
 },
 "nbformat": 4,
 "nbformat_minor": 5
}
